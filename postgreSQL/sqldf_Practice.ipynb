{
 "cells": [
  {
   "cell_type": "code",
   "execution_count": 1,
   "metadata": {},
   "outputs": [],
   "source": [
    "from pandasql import sqldf\n",
    "import seaborn as sns\n",
    "import matplotlib as plt\n",
    "import pandas as pd"
   ]
  },
  {
   "cell_type": "code",
   "execution_count": 2,
   "metadata": {},
   "outputs": [],
   "source": [
    "stocks =  pd.read_excel(\"../Stocks Data.xlsx\")"
   ]
  },
  {
   "cell_type": "code",
   "execution_count": 3,
   "metadata": {},
   "outputs": [
    {
     "name": "stdout",
     "output_type": "stream",
     "text": [
      "       symbol                        date      open      high       low  \\\n",
      "0         AAL  2014-01-02 00:00:00.000000   25.0700   25.8200   25.0600   \n",
      "1        AAPL  2014-01-02 00:00:00.000000   79.3828   79.5756   78.8601   \n",
      "2         AAP  2014-01-02 00:00:00.000000  110.3600  111.8800  109.2900   \n",
      "3        ABBV  2014-01-02 00:00:00.000000   52.1200   52.3300   51.5200   \n",
      "4         ABC  2014-01-02 00:00:00.000000   70.1100   70.2300   69.4800   \n",
      "...       ...                         ...       ...       ...       ...   \n",
      "497467    XYL  2017-12-29 00:00:00.000000   68.5300   68.8000   67.9200   \n",
      "497468    YUM  2017-12-29 00:00:00.000000   82.6400   82.7100   81.5900   \n",
      "497469    ZBH  2017-12-29 00:00:00.000000  121.7500  121.9500  120.6200   \n",
      "497470   ZION  2017-12-29 00:00:00.000000   51.2800   51.5500   50.8100   \n",
      "497471    ZTS  2017-12-29 00:00:00.000000   72.5500   72.7600   72.0400   \n",
      "\n",
      "           close    volume  \n",
      "0        25.3600   8998943  \n",
      "1        79.0185  58791957  \n",
      "2       109.7400    542711  \n",
      "3        51.9800   4569061  \n",
      "4        69.8900   1148391  \n",
      "...          ...       ...  \n",
      "497467   68.2000   1046677  \n",
      "497468   81.6100   1347613  \n",
      "497469  120.6700   1023624  \n",
      "497470   50.8300   1261916  \n",
      "497471   72.0400   1704122  \n",
      "\n",
      "[497472 rows x 7 columns]\n"
     ]
    }
   ],
   "source": [
    "print(sqldf(''' \n",
    "      SELECT * FROM stocks\n",
    "    '''))"
   ]
  },
  {
   "cell_type": "code",
   "execution_count": 4,
   "metadata": {},
   "outputs": [
    {
     "name": "stdout",
     "output_type": "stream",
     "text": [
      "      symbol    close    volume\n",
      "0       AAPL  79.0185  58791957\n",
      "1        AMD   3.9500  20569754\n",
      "2      CMCSA  25.7250  19522498\n",
      "3       CSCO  22.0000  44387713\n",
      "4          C  52.2700  16489767\n",
      "...      ...      ...       ...\n",
      "41099     MU  41.1200  44642115\n",
      "41100    PFE  36.2200  11421487\n",
      "41101      T  38.8800  26479899\n",
      "41102    UAA  14.4300  16334353\n",
      "41103    WFC  60.6700  10711384\n",
      "\n",
      "[41104 rows x 3 columns]\n"
     ]
    }
   ],
   "source": [
    "print(sqldf('''\n",
    "            SELECT symbol, close, volume \n",
    "            FROM stocks\n",
    "            WHERE volume LIKE '________'\n",
    "            '''))"
   ]
  },
  {
   "cell_type": "code",
   "execution_count": 5,
   "metadata": {},
   "outputs": [
    {
     "name": "stdout",
     "output_type": "stream",
     "text": [
      "  symbol                        date   open   high  low  close   volume\n",
      "0     XL  2015-08-24 00:00:00.000000  35.24  37.62  5.4  36.79  4215298\n"
     ]
    }
   ],
   "source": [
    "print(sqldf('''\n",
    "            SELECT *\n",
    "            FROM stocks\n",
    "            WHERE high > 30 AND low <25\n",
    "            '''))"
   ]
  },
  {
   "cell_type": "code",
   "execution_count": 6,
   "metadata": {},
   "outputs": [
    {
     "name": "stdout",
     "output_type": "stream",
     "text": [
      "      symbol    high      low  close    volume\n",
      "0        CNP  23.290  22.8100  22.82   2980414\n",
      "1       CSCO  22.290  21.9100  22.00  44387713\n",
      "2        DHI  22.035  21.6350  21.83   6140313\n",
      "3         EA  22.960  22.4300  22.83   3550732\n",
      "4       FITB  21.060  20.8300  20.87   6971216\n",
      "...      ...     ...      ...    ...       ...\n",
      "15973    GGP  23.550  23.3500  23.39   3957256\n",
      "15974    HBI  21.260  20.8815  20.91   3534136\n",
      "15975    HPQ  21.275  21.0100  21.01   5204330\n",
      "15976    IPG  20.470  20.1500  20.16   2473669\n",
      "15977    KEY  20.410  20.1700  20.17   5497377\n",
      "\n",
      "[15978 rows x 5 columns]\n"
     ]
    }
   ],
   "source": [
    "print(sqldf('''\n",
    "            SELECT symbol, high, low, close, volume\n",
    "            FROM stocks\n",
    "            WHERE close BETWEEN 20 AND 25\n",
    "            '''))"
   ]
  },
  {
   "cell_type": "code",
   "execution_count": 10,
   "metadata": {},
   "outputs": [
    {
     "name": "stdout",
     "output_type": "stream",
     "text": [
      "   unique_stocks\n",
      "0            505\n"
     ]
    }
   ],
   "source": [
    "print(sqldf('''\n",
    "            SELECT COUNT(DISTINCT(symbol)) AS unique_stocks\n",
    "            FROM stocks\n",
    "            \n",
    "            '''))"
   ]
  },
  {
   "cell_type": "code",
   "execution_count": 9,
   "metadata": {},
   "outputs": [
    {
     "name": "stdout",
     "output_type": "stream",
     "text": [
      "    symbol  Average_volume\n",
      "0        A    2.191932e+06\n",
      "1      AAL    9.751521e+06\n",
      "2      AAP    1.137307e+06\n",
      "3     AAPL    4.516957e+07\n",
      "4     ABBV    8.408836e+06\n",
      "..     ...             ...\n",
      "500    XYL    1.159214e+06\n",
      "501    YUM    3.225016e+06\n",
      "502    ZBH    1.349760e+06\n",
      "503   ZION    2.758079e+06\n",
      "504    ZTS    3.485038e+06\n",
      "\n",
      "[505 rows x 2 columns]\n"
     ]
    }
   ],
   "source": [
    "print(sqldf('''\n",
    "            SELECT symbol, AVG(volume) AS Average_volume\n",
    "            FROM stocks\n",
    "            GROUP BY symbol\n",
    "            '''))"
   ]
  },
  {
   "cell_type": "code",
   "execution_count": 22,
   "metadata": {},
   "outputs": [
    {
     "name": "stdout",
     "output_type": "stream",
     "text": [
      "    symbol   AVG(close)\n",
      "0     PCLN  1390.272642\n",
      "1    GOOGL   722.559017\n",
      "2     GOOG   714.496848\n",
      "3      AZO   660.246425\n",
      "4     AMZN   619.244787\n",
      "..     ...          ...\n",
      "500    AES    12.210854\n",
      "501    CHK    11.758113\n",
      "502     RF    11.135209\n",
      "503   HBAN    11.049269\n",
      "504    AMD     5.908605\n",
      "\n",
      "[505 rows x 2 columns]\n"
     ]
    }
   ],
   "source": [
    "print(sqldf('''\n",
    "            SELECT symbol, AVG(close)\n",
    "            FROM stocks\n",
    "            GROUP BY symbol\n",
    "            ORDER BY AVG(close) DESC\n",
    "            \n",
    "            '''))"
   ]
  }
 ],
 "metadata": {
  "kernelspec": {
   "display_name": "Python 3",
   "language": "python",
   "name": "python3"
  },
  "language_info": {
   "codemirror_mode": {
    "name": "ipython",
    "version": 3
   },
   "file_extension": ".py",
   "mimetype": "text/x-python",
   "name": "python",
   "nbconvert_exporter": "python",
   "pygments_lexer": "ipython3",
   "version": "3.11.4"
  },
  "orig_nbformat": 4
 },
 "nbformat": 4,
 "nbformat_minor": 2
}
