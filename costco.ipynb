{
 "cells": [
  {
   "cell_type": "markdown",
   "metadata": {},
   "source": [
    "# Costco\n",
    "By: Adam Hellinga\n",
    "\n",
    "The goal of this project is to create a database based off of Costco, including orders, employees, members, inventory, stores, and foot court items. \n",
    "Here is the ER Diagram: https://lucid.app/lucidchart/a7d563a1-1c27-42d2-b4df-c4df4edfd782/edit?invitationId=inv_947dffd5-be00-474e-af2d-bd43d71a8686\n",
    "\n",
    "First we need to make sure that any pre-established tables, views, and types are dropped before we try to make them again."
   ]
  },
  {
   "cell_type": "code",
   "execution_count": null,
   "metadata": {
    "vscode": {
     "languageId": "sql"
    }
   },
   "outputs": [],
   "source": [
    "DROP VIEW IF EXISTS vw_order_info;\n",
    "DROP TABLE IF EXISTS costco.food_court;\n",
    "DROP TABLE IF EXISTS costco.order_item;\n",
    "DROP TABLE IF EXISTS costco.order;\n",
    "DROP TABLE IF EXISTS costco.member;\n",
    "DROP TABLE IF EXISTS costco.inventory;\n",
    "DROP TABLE IF EXISTS costco.employee;\n",
    "DROP TABLE IF EXISTS costco.store;\n",
    "DROP TYPE IF EXISTS costco_job;"
   ]
  },
  {
   "cell_type": "markdown",
   "metadata": {},
   "source": [
    "Next, we need to create the schema if it doesnt already exist to keep organized."
   ]
  },
  {
   "cell_type": "code",
   "execution_count": null,
   "metadata": {
    "vscode": {
     "languageId": "sql"
    }
   },
   "outputs": [],
   "source": [
    "CREATE SCHEMA IF NOT EXISTS costco;"
   ]
  },
  {
   "cell_type": "markdown",
   "metadata": {},
   "source": [
    "Here we create the job type so that we can limit the values that can be put in the occupation column."
   ]
  },
  {
   "cell_type": "code",
   "execution_count": null,
   "metadata": {
    "vscode": {
     "languageId": "sql"
    }
   },
   "outputs": [],
   "source": [
    "CREATE TYPE costco_job AS ENUM ('restocker', 'manager', 'cook', 'receipt checker', 'cashier');\n"
   ]
  },
  {
   "cell_type": "markdown",
   "metadata": {},
   "source": [
    "Here we create all the tables in an order that leaves any foreign keys until last."
   ]
  },
  {
   "cell_type": "code",
   "execution_count": null,
   "metadata": {
    "vscode": {
     "languageId": "sql"
    }
   },
   "outputs": [],
   "source": [
    "CREATE TABLE costco.store(\n",
    "    store_id SERIAL PRIMARY KEY,\n",
    "    store_address VARCHAR(255)\n",
    ");\n",
    "\n",
    "CREATE TABLE costco.employee(\n",
    "    employee_id INTEGER PRIMARY KEY,\n",
    "    employee_name VARCHAR(255),\n",
    "    store INTEGER,\n",
    "    occupation costco_job,\n",
    "    FOREIGN KEY (store) REFERENCES costco.store(store_id)\n",
    ");\n",
    "\n",
    "CREATE TABLE costco.inventory(\n",
    "    store_id INTEGER,\n",
    "    item_id SERIAL,\n",
    "    stock INTEGER,\n",
    "    cost MONEY,\n",
    "    product_name VARCHAR(255),\n",
    "    FOREIGN KEY (store_id) REFERENCES costco.store(store_id),\n",
    "    PRIMARY KEY(store_id, item_id)\n",
    ");\n",
    "\n",
    "CREATE TABLE costco.member(\n",
    "    member_id SERIAL,\n",
    "    expiration_date DATE,\n",
    "    member_name VARCHAR(255),\n",
    "    member_address VARCHAR(255),\n",
    "    PRIMARY KEY(member_id, expiration_date)\n",
    ");\n",
    "\n",
    "CREATE TABLE costco.order(\n",
    "    order_id SERIAL PRIMARY KEY,\n",
    "    store_id INTEGER,\n",
    "    customer_id INTEGER,\n",
    "    cost MONEY,\n",
    "    before_date DATE,\n",
    "    FOREIGN KEY (store_id) REFERENCES costco.store(store_id),\n",
    "    FOREIGN KEY (customer_id, before_date) REFERENCES costco.member(member_id, expiration_date)\n",
    ");\n",
    "\n",
    "CREATE TABLE costco.order_item(\n",
    "    order_id INTEGER,\n",
    "    store_id INTEGER,\n",
    "    item_id INTEGER,\n",
    "    FOREIGN KEY (order_id) REFERENCES costco.order(order_id),\n",
    "    FOREIGN KEY (store_id, item_id) REFERENCES costco.inventory(store_id, item_id),\n",
    "    PRIMARY KEY(order_id, item_id)\n",
    ");\n",
    "\n",
    "CREATE TABLE costco.food_court(\n",
    "    store_id INTEGER,\n",
    "    food_id INTEGER,\n",
    "    food_name VARCHAR(255),\n",
    "    price MONEY,\n",
    "    FOREIGN KEY (store_id) REFERENCES costco.store(store_id),\n",
    "    PRIMARY KEY(store_id, food_id)\n",
    ");"
   ]
  },
  {
   "cell_type": "markdown",
   "metadata": {},
   "source": [
    "To finish the tables we add some sample data for each table."
   ]
  },
  {
   "cell_type": "code",
   "execution_count": null,
   "metadata": {
    "vscode": {
     "languageId": "sql"
    }
   },
   "outputs": [],
   "source": [
    "insert into costco.store (store_id, store_address) values (1, '91 Susan Crossing');\n",
    "insert into costco.store (store_id, store_address) values (2, '459 Summer Ridge Plaza');\n",
    "insert into costco.store (store_id, store_address) values (3, '17 Prairieview Junction');\n",
    "insert into costco.store (store_id, store_address) values (4, '88 Eagle Crest Alley');\n",
    "insert into costco.store (store_id, store_address) values (5, '369 Sauthoff Trail');\n",
    "insert into costco.store (store_id, store_address) values (6, '40695 Everett Plaza');\n",
    "insert into costco.store (store_id, store_address) values (7, '74 Nancy Pass');\n",
    "insert into costco.store (store_id, store_address) values (8, '0388 Milwaukee Park');\n",
    "insert into costco.store (store_id, store_address) values (9, '49 Dakota Point');\n",
    "insert into costco.store (store_id, store_address) values (10, '86 Pierstorff Place');\n",
    "insert into costco.store (store_id, store_address) values (11, '357 Hoepker Junction');\n",
    "insert into costco.store (store_id, store_address) values (12, '06525 Hauk Hill');\n",
    "insert into costco.store (store_id, store_address) values (13, '78491 Washington Circle');\n",
    "insert into costco.store (store_id, store_address) values (14, '6 Rockefeller Junction');\n",
    "insert into costco.store (store_id, store_address) values (15, '261 Old Gate Parkway');\n",
    "insert into costco.store (store_id, store_address) values (16, '77757 Memorial Junction');\n",
    "insert into costco.store (store_id, store_address) values (17, '3 Declaration Circle');\n",
    "insert into costco.store (store_id, store_address) values (18, '29 Warbler Center');\n",
    "insert into costco.store (store_id, store_address) values (19, '90438 Saint Paul Crossing');\n",
    "insert into costco.store (store_id, store_address) values (20, '67 Lyons Center');\n",
    "\n",
    "insert into costco.employee (employee_id, employee_name, store, occupation) values (1, 'Antin', 1, 'cook');\n",
    "insert into costco.employee (employee_id, employee_name, store, occupation) values (2, 'Byrann', 1, 'cook');\n",
    "insert into costco.employee (employee_id, employee_name, store, occupation) values (3, 'Jule', 1, 'cook');\n",
    "insert into costco.employee (employee_id, employee_name, store, occupation) values (4, 'Wallace', 1, 'restocker');\n",
    "insert into costco.employee (employee_id, employee_name, store, occupation) values (5, 'Xenos', 1, 'cook');\n",
    "insert into costco.employee (employee_id, employee_name, store, occupation) values (6, 'Allen', 1, 'restocker');\n",
    "insert into costco.employee (employee_id, employee_name, store, occupation) values (7, 'Jase', 1, 'restocker');\n",
    "insert into costco.employee (employee_id, employee_name, store, occupation) values (8, 'Bar', 1, 'receipt checker');\n",
    "insert into costco.employee (employee_id, employee_name, store, occupation) values (9, 'Price', 1, 'cook');\n",
    "insert into costco.employee (employee_id, employee_name, store, occupation) values (10, 'Yvon', 1, 'cook');\n",
    "insert into costco.employee (employee_id, employee_name, store, occupation) values (11, 'Sergei', 1, 'cook');\n",
    "insert into costco.employee (employee_id, employee_name, store, occupation) values (12, 'Thane', 1, 'restocker');\n",
    "insert into costco.employee (employee_id, employee_name, store, occupation) values (13, 'Melissa', 1, 'receipt checker');\n",
    "insert into costco.employee (employee_id, employee_name, store, occupation) values (14, 'Haley', 1, 'cashier');\n",
    "insert into costco.employee (employee_id, employee_name, store, occupation) values (15, 'Powell', 1, 'receipt checker');\n",
    "insert into costco.employee (employee_id, employee_name, store, occupation) values (16, 'Rozamond', 1, 'restocker');\n",
    "insert into costco.employee (employee_id, employee_name, store, occupation) values (17, 'Joshia', 1, 'restocker');\n",
    "insert into costco.employee (employee_id, employee_name, store, occupation) values (18, 'Blanche', 1, 'restocker');\n",
    "insert into costco.employee (employee_id, employee_name, store, occupation) values (19, 'Lindsey', 1, 'cook');\n",
    "insert into costco.employee (employee_id, employee_name, store, occupation) values (20, 'Elvera', 1, 'cook');\n",
    "\n",
    "insert into costco.inventory (store_id, item_id, stock, cost, product_name) values (1, 1, 177, '$4.81', 'Coffee - Colombian, Portioned');\n",
    "insert into costco.inventory (store_id, item_id, stock, cost, product_name) values (1, 2, 313, '$16.07', 'Calypso - Lemonade');\n",
    "insert into costco.inventory (store_id, item_id, stock, cost, product_name) values (1, 3, 803, '$19.21', 'Flour - Rye');\n",
    "insert into costco.inventory (store_id, item_id, stock, cost, product_name) values (1, 4, 677, '$15.17', 'Soup - Knorr, Country Bean');\n",
    "insert into costco.inventory (store_id, item_id, stock, cost, product_name) values (1, 5, 881, '$25.28', 'Dates');\n",
    "insert into costco.inventory (store_id, item_id, stock, cost, product_name) values (1, 6, 109, '$22.72', 'Lambcasing');\n",
    "insert into costco.inventory (store_id, item_id, stock, cost, product_name) values (1, 7, 174, '$11.10', 'Buffalo - Short Rib Fresh');\n",
    "insert into costco.inventory (store_id, item_id, stock, cost, product_name) values (1, 8, 513, '$8.96', 'Cotton Wet Mop 16 Oz');\n",
    "insert into costco.inventory (store_id, item_id, stock, cost, product_name) values (1, 9, 896, '$29.96', 'Mace');\n",
    "insert into costco.inventory (store_id, item_id, stock, cost, product_name) values (1, 10, 514, '$2.84', 'Thyme - Fresh');\n",
    "insert into costco.inventory (store_id, item_id, stock, cost, product_name) values (2, 11, 947, '$12.26', 'Parsley - Fresh');\n",
    "insert into costco.inventory (store_id, item_id, stock, cost, product_name) values (2, 12, 373, '$7.82', 'Cotton Wet Mop 16 Oz');\n",
    "insert into costco.inventory (store_id, item_id, stock, cost, product_name) values (2, 13, 874, '$14.29', 'Cheese - Brie Roitelet');\n",
    "insert into costco.inventory (store_id, item_id, stock, cost, product_name) values (2, 14, 134, '$9.66', 'Nantucket Cranberry Juice');\n",
    "insert into costco.inventory (store_id, item_id, stock, cost, product_name) values (2, 15, 827, '$23.94', 'Pie Filling - Pumpkin');\n",
    "insert into costco.inventory (store_id, item_id, stock, cost, product_name) values (2, 16, 472, '$26.30', 'Mustard Prepared');\n",
    "insert into costco.inventory (store_id, item_id, stock, cost, product_name) values (2, 17, 956, '$3.25', 'Pastry - Baked Scones - Mini');\n",
    "insert into costco.inventory (store_id, item_id, stock, cost, product_name) values (2, 18, 208, '$10.49', 'Tomato');\n",
    "insert into costco.inventory (store_id, item_id, stock, cost, product_name) values (2, 19, 664, '$28.40', 'Oil - Peanut');\n",
    "insert into costco.inventory (store_id, item_id, stock, cost, product_name) values (2, 20, 434, '$26.50', 'Glaze - Apricot');\n",
    "\n",
    "insert into costco.member (member_id, expiration_date, member_name, member_address) values (1, '1/24/2026', 'Fawne Doley', '64 Morning Avenue');\n",
    "insert into costco.member (member_id, expiration_date, member_name, member_address) values (2, '7/14/2024', 'Midge Klishin', '315 Lakewood Circle');\n",
    "insert into costco.member (member_id, expiration_date, member_name, member_address) values (3, '2/5/2026', 'Fleming Plett', '932 Continental Point');\n",
    "insert into costco.member (member_id, expiration_date, member_name, member_address) values (4, '4/6/2025', 'Viviana Bayston', '866 Scoville Drive');\n",
    "insert into costco.member (member_id, expiration_date, member_name, member_address) values (5, '2/21/2025', 'Colline Waddie', '91985 Lotheville Way');\n",
    "insert into costco.member (member_id, expiration_date, member_name, member_address) values (6, '10/2/2024', 'Roxy Cottee', '8081 Lotheville Place');\n",
    "insert into costco.member (member_id, expiration_date, member_name, member_address) values (7, '2/20/2025', 'Bunni Holdin', '44 Everett Drive');\n",
    "insert into costco.member (member_id, expiration_date, member_name, member_address) values (8, '7/31/2024', 'Ilyse Bromont', '5 Butternut Alley');\n",
    "insert into costco.member (member_id, expiration_date, member_name, member_address) values (9, '10/30/2025', 'Sandye Fetherstone', '91164 8th Lane');\n",
    "insert into costco.member (member_id, expiration_date, member_name, member_address) values (10, '11/29/2025', 'Callean Cultcheth', '6394 Little Fleur Avenue');\n",
    "insert into costco.member (member_id, expiration_date, member_name, member_address) values (11, '2/1/2025', 'Cybil Heggison', '1 Morningstar Center');\n",
    "insert into costco.member (member_id, expiration_date, member_name, member_address) values (12, '12/4/2025', 'Blaire Ilyin', '5 Pankratz Park');\n",
    "insert into costco.member (member_id, expiration_date, member_name, member_address) values (13, '10/13/2025', 'Simeon Dearle', '6300 Mallory Point');\n",
    "insert into costco.member (member_id, expiration_date, member_name, member_address) values (14, '1/17/2026', 'Reina Harses', '91854 Elmside Alley');\n",
    "insert into costco.member (member_id, expiration_date, member_name, member_address) values (15, '5/24/2024', 'Sutton Martt', '04407 Talisman Street');\n",
    "insert into costco.member (member_id, expiration_date, member_name, member_address) values (16, '8/13/2025', 'Dwight Doneld', '420 Gerald Park');\n",
    "insert into costco.member (member_id, expiration_date, member_name, member_address) values (17, '4/27/2024', 'Breanne Pamplin', '3 Annamark Pass');\n",
    "insert into costco.member (member_id, expiration_date, member_name, member_address) values (18, '12/25/2025', 'Lanny Saintpierre', '85 Schmedeman Road');\n",
    "insert into costco.member (member_id, expiration_date, member_name, member_address) values (19, '11/10/2024', 'Olivero Gemmell', '35 Center Hill');\n",
    "insert into costco.member (member_id, expiration_date, member_name, member_address) values (20, '1/14/2026', 'Yvor Heiss', '85 Harbort Center');\n",
    "\n",
    "insert into costco.order (order_id, store_id, customer_id, cost, before_date) values (1, 1, 1, '$240.16', '1/24/2026');\n",
    "insert into costco.order (order_id, store_id, customer_id, cost, before_date) values (2, 1, 2, '$157.68', '7/14/2024');\n",
    "insert into costco.order (order_id, store_id, customer_id, cost, before_date) values (3, 1, 3, '$177.74', '2/5/2026');\n",
    "insert into costco.order (order_id, store_id, customer_id, cost, before_date) values (4, 1, 4, '$186.81', '4/6/2025');\n",
    "insert into costco.order (order_id, store_id, customer_id, cost, before_date) values (5, 1, 5, '$179.15', '2/21/2025');\n",
    "insert into costco.order (order_id, store_id, customer_id, cost, before_date) values (6, 1, 6, '$176.64', '10/2/2024');\n",
    "insert into costco.order (order_id, store_id, customer_id, cost, before_date) values (7, 1, 7, '$161.03', '2/20/2025');\n",
    "insert into costco.order (order_id, store_id, customer_id, cost, before_date) values (8, 1, 8, '$68.08', '7/31/2024');\n",
    "insert into costco.order (order_id, store_id, customer_id, cost, before_date) values (9, 1, 9, '$71.85', '10/30/2025');\n",
    "insert into costco.order (order_id, store_id, customer_id, cost, before_date) values (10, 1, 10, '$111.04', '11/29/2025');\n",
    "insert into costco.order (order_id, store_id, customer_id, cost, before_date) values (11, 2, 11, '$238.27', '2/1/2025');\n",
    "insert into costco.order (order_id, store_id, customer_id, cost, before_date) values (12, 2, 12, '$225.41', '12/4/2025');\n",
    "insert into costco.order (order_id, store_id, customer_id, cost, before_date) values (13, 2, 13, '$162.05', '10/13/2025');\n",
    "insert into costco.order (order_id, store_id, customer_id, cost, before_date) values (14, 2, 14, '$92.52', '1/17/2026');\n",
    "insert into costco.order (order_id, store_id, customer_id, cost, before_date) values (15, 2, 15, '$32.73', '5/24/2024');\n",
    "insert into costco.order (order_id, store_id, customer_id, cost, before_date) values (16, 2, 16, '$98.40', '8/13/2025');\n",
    "insert into costco.order (order_id, store_id, customer_id, cost, before_date) values (17, 2, 17, '$148.56', '4/27/2024');\n",
    "insert into costco.order (order_id, store_id, customer_id, cost, before_date) values (18, 2, 18, '$278.93', '12/25/2025');\n",
    "insert into costco.order (order_id, store_id, customer_id, cost, before_date) values (19, 2, 19, '$172.06', '11/10/2024');\n",
    "insert into costco.order (order_id, store_id, customer_id, cost, before_date) values (20, 2, 20, '$68.65', '1/14/2026');\n",
    "\n",
    "insert into costco.order_item (order_id, store_id, item_id) values (1, 1, 2);\n",
    "insert into costco.order_item (order_id, store_id, item_id) values (2, 1, 3);\n",
    "insert into costco.order_item (order_id, store_id, item_id) values (3, 1, 3);\n",
    "insert into costco.order_item (order_id, store_id, item_id) values (4, 1, 7);\n",
    "insert into costco.order_item (order_id, store_id, item_id) values (5, 1, 7);\n",
    "insert into costco.order_item (order_id, store_id, item_id) values (6, 1, 5);\n",
    "insert into costco.order_item (order_id, store_id, item_id) values (7, 1, 4);\n",
    "insert into costco.order_item (order_id, store_id, item_id) values (8, 1, 4);\n",
    "insert into costco.order_item (order_id, store_id, item_id) values (9, 1, 8);\n",
    "insert into costco.order_item (order_id, store_id, item_id) values (10, 1, 1);\n",
    "insert into costco.order_item (order_id, store_id, item_id) values (11, 2, 18);\n",
    "insert into costco.order_item (order_id, store_id, item_id) values (12, 2, 13);\n",
    "insert into costco.order_item (order_id, store_id, item_id) values (13, 2, 16);\n",
    "insert into costco.order_item (order_id, store_id, item_id) values (14, 2, 17);\n",
    "insert into costco.order_item (order_id, store_id, item_id) values (15, 2, 14);\n",
    "insert into costco.order_item (order_id, store_id, item_id) values (16, 2, 17);\n",
    "insert into costco.order_item (order_id, store_id, item_id) values (17, 2, 19);\n",
    "insert into costco.order_item (order_id, store_id, item_id) values (18, 2, 12);\n",
    "insert into costco.order_item (order_id, store_id, item_id) values (19, 2, 13);\n",
    "insert into costco.order_item (order_id, store_id, item_id) values (20, 2, 20);\n",
    "\n",
    "insert into costco.food_court (store_id, food_id, food_name, price) values (1, 1, 'Distributed context-sensitive projection', '$9.92');\n",
    "insert into costco.food_court (store_id, food_id, food_name, price) values (1, 2, 'Customer-focused dynamic collaboration', '$5.05');\n",
    "insert into costco.food_court (store_id, food_id, food_name, price) values (1, 3, 'Horizontal content-based time-frame', '$4.52');\n",
    "insert into costco.food_court (store_id, food_id, food_name, price) values (1, 4, 'Re-contextualized background website', '$9.16');\n",
    "insert into costco.food_court (store_id, food_id, food_name, price) values (1, 5, 'Fully-configurable upward-trending hierarchy', '$7.32');\n",
    "insert into costco.food_court (store_id, food_id, food_name, price) values (1, 6, 'Polarised tangible standardization', '$4.56');\n",
    "insert into costco.food_court (store_id, food_id, food_name, price) values (1, 7, 'Fundamental solution-oriented alliance', '$7.20');\n",
    "insert into costco.food_court (store_id, food_id, food_name, price) values (1, 8, 'Sharable holistic middleware', '$6.86');\n",
    "insert into costco.food_court (store_id, food_id, food_name, price) values (1, 9, 'Exclusive intermediate flexibility', '$8.70');\n",
    "insert into costco.food_court (store_id, food_id, food_name, price) values (1, 10, 'Integrated value-added portal', '$9.14');\n",
    "insert into costco.food_court (store_id, food_id, food_name, price) values (1, 11, 'Grass-roots intangible pricing structure', '$3.82');\n",
    "insert into costco.food_court (store_id, food_id, food_name, price) values (1, 12, 'Managed object-oriented archive', '$6.25');\n",
    "insert into costco.food_court (store_id, food_id, food_name, price) values (1, 13, 'Automated clear-thinking policy', '$4.88');\n",
    "insert into costco.food_court (store_id, food_id, food_name, price) values (1, 14, 'Switchable asymmetric paradigm', '$9.58');\n",
    "insert into costco.food_court (store_id, food_id, food_name, price) values (1, 15, 'Re-contextualized coherent application', '$7.54');\n",
    "insert into costco.food_court (store_id, food_id, food_name, price) values (1, 16, 'Reverse-engineered scalable projection', '$9.86');\n",
    "insert into costco.food_court (store_id, food_id, food_name, price) values (1, 17, 'Monitored tangible artificial intelligence', '$5.04');\n",
    "insert into costco.food_court (store_id, food_id, food_name, price) values (1, 18, 'Profit-focused tangible pricing structure', '$9.60');\n",
    "insert into costco.food_court (store_id, food_id, food_name, price) values (1, 19, 'Switchable exuding contingency', '$3.81');\n",
    "insert into costco.food_court (store_id, food_id, food_name, price) values (1, 20, 'Ameliorated clear-thinking utilisation', '$3.84');\n"
   ]
  },
  {
   "cell_type": "markdown",
   "metadata": {},
   "source": [
    "The last step of the SQL commands is to create a view that provides insightful information."
   ]
  },
  {
   "cell_type": "code",
   "execution_count": null,
   "metadata": {
    "vscode": {
     "languageId": "sql"
    }
   },
   "outputs": [],
   "source": [
    "CREATE VIEW vw_order_info  AS select costco.order.cost, costco.member.member_id, costco.member.member_name, costco.member.expiration_date, costco.member.member_address, costco.store.store_id, costco.store.store_address from costco.order JOIN costco.member ON (costco.member.member_id = costco.order.customer_id) JOIN costco.store ON (costco.order.store_id = costco.store.store_id) limit 20;"
   ]
  },
  {
   "cell_type": "markdown",
   "metadata": {},
   "source": [
    "## Excel\n",
    "\n",
    "To convert it to excel we first need to import some items"
   ]
  },
  {
   "cell_type": "code",
   "execution_count": 1,
   "metadata": {},
   "outputs": [],
   "source": [
    "import os\n",
    "from sqlalchemy import create_engine\n",
    "import pandas as pd"
   ]
  },
  {
   "cell_type": "markdown",
   "metadata": {},
   "source": [
    "Next we get the stored password to access the database, importing a saved variable and not the password itself."
   ]
  },
  {
   "cell_type": "code",
   "execution_count": null,
   "metadata": {},
   "outputs": [],
   "source": [
    "password = os.getenv(\"PGPASSWORD\")"
   ]
  },
  {
   "cell_type": "markdown",
   "metadata": {},
   "source": [
    "Next we create the connection terms in order to connect to the correct database."
   ]
  },
  {
   "cell_type": "code",
   "execution_count": null,
   "metadata": {},
   "outputs": [],
   "source": [
    "db_name = \"ahellinga\"\n",
    "user = \"ahellinga\"\n",
    "host = \"dbserver.gctaa.net\"\n",
    "port = \"5432\"\n",
    "\n",
    "connection_string = f\"postgresql+psycopg://{user}:{password}@{host}:{port}/{db_name}\""
   ]
  },
  {
   "cell_type": "markdown",
   "metadata": {},
   "source": [
    "Once we have all that we can connect to the database."
   ]
  },
  {
   "cell_type": "code",
   "execution_count": null,
   "metadata": {},
   "outputs": [],
   "source": [
    "engine = create_engine(connection_string)"
   ]
  },
  {
   "cell_type": "markdown",
   "metadata": {},
   "source": [
    "Now we can create a query to put into an excel spreadsheet."
   ]
  },
  {
   "cell_type": "code",
   "execution_count": null,
   "metadata": {},
   "outputs": [],
   "source": [
    "query = \"select * from costco.order JOIN costco.member ON (costco.member.member_id = costco.order.customer_id) JOIN costco.store ON (costco.order.store_id = costco.store.store_id) limit 20;\"\n",
    "df = pd.read_sql_query(query, engine)"
   ]
  },
  {
   "cell_type": "markdown",
   "metadata": {},
   "source": [
    "And then we put it into an excel spreadsheet."
   ]
  },
  {
   "cell_type": "code",
   "execution_count": null,
   "metadata": {},
   "outputs": [],
   "source": [
    "df.to_excel(\"costco_output.xlsx\", index=False)"
   ]
  }
 ],
 "metadata": {
  "kernelspec": {
   "display_name": "Python 3",
   "language": "python",
   "name": "python3"
  },
  "language_info": {
   "codemirror_mode": {
    "name": "ipython",
    "version": 3
   },
   "file_extension": ".py",
   "mimetype": "text/x-python",
   "name": "python",
   "nbconvert_exporter": "python",
   "pygments_lexer": "ipython3",
   "version": "3.11.4"
  },
  "orig_nbformat": 4
 },
 "nbformat": 4,
 "nbformat_minor": 2
}
