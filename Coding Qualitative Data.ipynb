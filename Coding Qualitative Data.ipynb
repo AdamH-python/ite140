{
 "cells": [
  {
   "cell_type": "markdown",
   "metadata": {},
   "source": [
    "# Coding qualitative data for valuable insights"
   ]
  },
  {
   "cell_type": "markdown",
   "metadata": {},
   "source": [
    "Atlas.ti says \"Perhaps making this task more cumbersome is that it is arguably one of the less attractive or exciting parts of qualitative research.\"\n",
    "\n",
    "## Codes and Labels\n",
    "Numbers are intuitive, words are not\n",
    "\n",
    "Probably not organized by anything other than chronologically needing restructure and reorganization\n",
    "\n",
    "To do this, we need codes and labels\n",
    "- Themes\n",
    "- Concepts\n",
    "- Ideas\n",
    "- Phrases\n"
   ]
  },
  {
   "cell_type": "markdown",
   "metadata": {},
   "source": [
    "## Potato\n",
    "User interface for coding and labeling \n",
    "\n",
    "### But how???\n",
    "\n",
    "1. Set your data file to a csv, tsv, or json file.\n",
    "2. Move the data file to the data folder\n",
    "\n",
    "\n",
    "http://localhost:8000."
   ]
  }
 ],
 "metadata": {
  "language_info": {
   "name": "python"
  },
  "orig_nbformat": 4
 },
 "nbformat": 4,
 "nbformat_minor": 2
}
